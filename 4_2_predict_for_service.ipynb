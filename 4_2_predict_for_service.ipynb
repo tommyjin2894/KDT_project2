{
 "cells": [
  {
   "cell_type": "markdown",
   "metadata": {},
   "source": [
    "# 예측 모델로 서비스 하기"
   ]
  },
  {
   "cell_type": "code",
   "execution_count": 1,
   "metadata": {},
   "outputs": [],
   "source": [
    "# !pip install konlpy"
   ]
  },
  {
   "cell_type": "code",
   "execution_count": 2,
   "metadata": {},
   "outputs": [],
   "source": [
    "import model._1_lstm_with_attention_model as model_lstm_att # 모듈화\n",
    "import tensorflow as tf\n",
    "from tensorflow.keras.models import load_model\n",
    "import pickle\n",
    "import json\n",
    "import numpy as np\n",
    "from konlpy.tag import Okt"
   ]
  },
  {
   "cell_type": "markdown",
   "metadata": {},
   "source": [
    "### 예측에 필요한 파일만을 불러오기"
   ]
  },
  {
   "cell_type": "code",
   "execution_count": 3,
   "metadata": {},
   "outputs": [],
   "source": [
    "# encoer,decoder,attention\n",
    "with open(\"data_prep/data/_2_after_prep/corpus_method_1/sentences.pkl\",\"rb\") as f:\n",
    "    sentences = pickle.load(f)\n",
    "\n",
    "with open(\"data_prep/data/_2_after_prep/corpus_method_2/labels.pkl\",\"rb\") as f:\n",
    "    labels = pickle.load(f)\n",
    "\n",
    "with open(\"data_prep/data/_2_after_prep/corpus_method_1/sentences_corpus_word_index.json\",\"r\") as f:\n",
    "    sentences_corpus_word_index = json.load(f)\n",
    "\n",
    "with open(\"data_prep/data/_2_after_prep/corpus_method_2/label_corpus_word_index.json\",\"r\") as f:\n",
    "    label_corpus_word_index = json.load(f)\n",
    "\n",
    "sentences_corpus_index_word = {sentences_corpus_word_index[key]:key for key in sentences_corpus_word_index}\n",
    "label_corpus_index_word = {label_corpus_word_index[key]:key for key in label_corpus_word_index}\n",
    "\n",
    "max_text_len = 77\n",
    "max_label_len = 10"
   ]
  },
  {
   "cell_type": "code",
   "execution_count": 4,
   "metadata": {},
   "outputs": [],
   "source": [
    "embedding1, embedding2, lstm_size, dropout_ratio = 2048,2048,1024,0.6\n",
    "\n",
    "model, encoder_model, decoder_model = \\\n",
    "model_lstm_att.seq2seq_with_attention(77,\n",
    "                                      len(sentences_corpus_word_index),\n",
    "                                      10,\n",
    "                                      19,\n",
    "                                      embedding_size1=embedding1,\n",
    "                                      embedding_size2=embedding2,\n",
    "                                      lstm_size=lstm_size,\n",
    "                                      dropout_ratio=dropout_ratio)"
   ]
  },
  {
   "cell_type": "code",
   "execution_count": 5,
   "metadata": {},
   "outputs": [],
   "source": [
    "_ = load_model('final_model.h5', compile=False)\n",
    "model.set_weights(_.get_weights())"
   ]
  },
  {
   "cell_type": "code",
   "execution_count": 6,
   "metadata": {},
   "outputs": [],
   "source": [
    "sets_for_predict = sentences_corpus_word_index,max_text_len, label_corpus_word_index, label_corpus_index_word, max_label_len"
   ]
  },
  {
   "cell_type": "code",
   "execution_count": 7,
   "metadata": {},
   "outputs": [
    {
     "data": {
      "text/plain": [
       "['악플', '욕설']"
      ]
     },
     "execution_count": 7,
     "metadata": {},
     "output_type": "execute_result"
    }
   ],
   "source": [
    "moonjang_ = '뭐 이런 게 다있어 이거 정신 나간거 아니야?'\n",
    "model_lstm_att.predict_from_seq(moonjang_, encoder_model, decoder_model, sets_for_predict)"
   ]
  }
 ],
 "metadata": {
  "kernelspec": {
   "display_name": "kdt",
   "language": "python",
   "name": "python3"
  },
  "language_info": {
   "codemirror_mode": {
    "name": "ipython",
    "version": 3
   },
   "file_extension": ".py",
   "mimetype": "text/x-python",
   "name": "python",
   "nbconvert_exporter": "python",
   "pygments_lexer": "ipython3",
   "version": "3.8.19"
  }
 },
 "nbformat": 4,
 "nbformat_minor": 2
}
